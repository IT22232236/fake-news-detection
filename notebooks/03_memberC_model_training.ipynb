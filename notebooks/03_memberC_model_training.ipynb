{
  "nbformat": 4,
  "nbformat_minor": 0,
  "metadata": {
    "colab": {
      "provenance": [],
      "authorship_tag": "ABX9TyO9qCnmLdkxEJ0g9sPLL6h+",
      "include_colab_link": true
    },
    "kernelspec": {
      "name": "python3",
      "display_name": "Python 3"
    },
    "language_info": {
      "name": "python"
    }
  },
  "cells": [
    {
      "cell_type": "markdown",
      "metadata": {
        "id": "view-in-github",
        "colab_type": "text"
      },
      "source": [
        "<a href=\"https://colab.research.google.com/github/IT22232236/fake-news-detection/blob/feat%2FmemberC-models/notebooks/03_memberC_model_training.ipynb\" target=\"_parent\"><img src=\"https://colab.research.google.com/assets/colab-badge.svg\" alt=\"Open In Colab\"/></a>"
      ]
    },
    {
      "cell_type": "code",
      "execution_count": 1,
      "metadata": {
        "id": "rR8COKUbxm-3"
      },
      "outputs": [],
      "source": [
        "!git config --global user.email \"it22232236@my.sliit.lk\"\n",
        "!git config --global user.name \"IT22232236\""
      ]
    },
    {
      "cell_type": "code",
      "source": [
        "REPO = \"fake-news-detection\"\n",
        "OWNER = \"IT22232236\"       # repo owner’s username (yours)\n",
        "TOKEN = \"token\"\n",
        "\n",
        "!git clone https://{TOKEN}@github.com/{OWNER}/{REPO}.git\n",
        "%cd /content/{REPO}"
      ],
      "metadata": {
        "colab": {
          "base_uri": "https://localhost:8080/"
        },
        "id": "9CzD_Oy7xnvn",
        "outputId": "824ced44-e585-4746-d879-a7c062a55598"
      },
      "execution_count": 2,
      "outputs": [
        {
          "output_type": "stream",
          "name": "stdout",
          "text": [
            "Cloning into 'fake-news-detection'...\n",
            "remote: Enumerating objects: 42, done.\u001b[K\n",
            "remote: Counting objects: 100% (42/42), done.\u001b[K\n",
            "remote: Compressing objects: 100% (37/37), done.\u001b[K\n",
            "remote: Total 42 (delta 12), reused 18 (delta 1), pack-reused 0 (from 0)\u001b[K\n",
            "Receiving objects: 100% (42/42), 14.46 MiB | 6.02 MiB/s, done.\n",
            "Resolving deltas: 100% (12/12), done.\n",
            "Updating files: 100% (15/15), done.\n",
            "/content/fake-news-detection\n"
          ]
        }
      ]
    },
    {
      "cell_type": "code",
      "source": [
        "BRANCH = \"feat/memberC-models\"\n",
        "!git checkout -b {BRANCH}"
      ],
      "metadata": {
        "colab": {
          "base_uri": "https://localhost:8080/"
        },
        "id": "pWAOiP82xpFv",
        "outputId": "bdcc9d30-53f7-4830-e0df-f8f97d782a45"
      },
      "execution_count": 3,
      "outputs": [
        {
          "output_type": "stream",
          "name": "stdout",
          "text": [
            "Switched to a new branch 'feat/memberC-models'\n"
          ]
        }
      ]
    },
    {
      "cell_type": "code",
      "source": [
        "!pip -q install pandas numpy scikit-learn tensorflow torch transformers matplotlib\n",
        "import pandas as pd, numpy as np, matplotlib.pyplot as plt\n",
        "from sklearn.metrics import accuracy_score, f1_score, classification_report, confusion_matrix\n",
        "import seaborn as sns\n",
        "import os, pathlib\n",
        "os.makedirs(\"data/processed\", exist_ok=True)\n",
        "os.makedirs(\"results/figs\", exist_ok=True)\n",
        "!ls -lah data/processed"
      ],
      "metadata": {
        "colab": {
          "base_uri": "https://localhost:8080/"
        },
        "id": "n5ByLdhsxqlG",
        "outputId": "0c2e2377-c2b3-44d8-8b06-f5e06a17394d"
      },
      "execution_count": 4,
      "outputs": [
        {
          "output_type": "stream",
          "name": "stdout",
          "text": [
            "total 8.0K\n",
            "drwxr-xr-x 2 root root 4.0K Oct  9 07:03 .\n",
            "drwxr-xr-x 3 root root 4.0K Oct  9 07:03 ..\n"
          ]
        }
      ]
    },
    {
      "cell_type": "code",
      "source": [
        "from google.colab import files\n",
        "uploaded = files.upload()    # choose train.csv, val.csv, test.csv"
      ],
      "metadata": {
        "colab": {
          "base_uri": "https://localhost:8080/",
          "height": 71
        },
        "id": "X42sIXfaxyRK",
        "outputId": "5a271658-9b79-4e1f-ba1c-d85e9000e00a"
      },
      "execution_count": 5,
      "outputs": [
        {
          "output_type": "display_data",
          "data": {
            "text/plain": [
              "<IPython.core.display.HTML object>"
            ],
            "text/html": [
              "\n",
              "     <input type=\"file\" id=\"files-1ee24659-decc-4943-a8e9-c22c14e98ae9\" name=\"files[]\" multiple disabled\n",
              "        style=\"border:none\" />\n",
              "     <output id=\"result-1ee24659-decc-4943-a8e9-c22c14e98ae9\">\n",
              "      Upload widget is only available when the cell has been executed in the\n",
              "      current browser session. Please rerun this cell to enable.\n",
              "      </output>\n",
              "      <script>// Copyright 2017 Google LLC\n",
              "//\n",
              "// Licensed under the Apache License, Version 2.0 (the \"License\");\n",
              "// you may not use this file except in compliance with the License.\n",
              "// You may obtain a copy of the License at\n",
              "//\n",
              "//      http://www.apache.org/licenses/LICENSE-2.0\n",
              "//\n",
              "// Unless required by applicable law or agreed to in writing, software\n",
              "// distributed under the License is distributed on an \"AS IS\" BASIS,\n",
              "// WITHOUT WARRANTIES OR CONDITIONS OF ANY KIND, either express or implied.\n",
              "// See the License for the specific language governing permissions and\n",
              "// limitations under the License.\n",
              "\n",
              "/**\n",
              " * @fileoverview Helpers for google.colab Python module.\n",
              " */\n",
              "(function(scope) {\n",
              "function span(text, styleAttributes = {}) {\n",
              "  const element = document.createElement('span');\n",
              "  element.textContent = text;\n",
              "  for (const key of Object.keys(styleAttributes)) {\n",
              "    element.style[key] = styleAttributes[key];\n",
              "  }\n",
              "  return element;\n",
              "}\n",
              "\n",
              "// Max number of bytes which will be uploaded at a time.\n",
              "const MAX_PAYLOAD_SIZE = 100 * 1024;\n",
              "\n",
              "function _uploadFiles(inputId, outputId) {\n",
              "  const steps = uploadFilesStep(inputId, outputId);\n",
              "  const outputElement = document.getElementById(outputId);\n",
              "  // Cache steps on the outputElement to make it available for the next call\n",
              "  // to uploadFilesContinue from Python.\n",
              "  outputElement.steps = steps;\n",
              "\n",
              "  return _uploadFilesContinue(outputId);\n",
              "}\n",
              "\n",
              "// This is roughly an async generator (not supported in the browser yet),\n",
              "// where there are multiple asynchronous steps and the Python side is going\n",
              "// to poll for completion of each step.\n",
              "// This uses a Promise to block the python side on completion of each step,\n",
              "// then passes the result of the previous step as the input to the next step.\n",
              "function _uploadFilesContinue(outputId) {\n",
              "  const outputElement = document.getElementById(outputId);\n",
              "  const steps = outputElement.steps;\n",
              "\n",
              "  const next = steps.next(outputElement.lastPromiseValue);\n",
              "  return Promise.resolve(next.value.promise).then((value) => {\n",
              "    // Cache the last promise value to make it available to the next\n",
              "    // step of the generator.\n",
              "    outputElement.lastPromiseValue = value;\n",
              "    return next.value.response;\n",
              "  });\n",
              "}\n",
              "\n",
              "/**\n",
              " * Generator function which is called between each async step of the upload\n",
              " * process.\n",
              " * @param {string} inputId Element ID of the input file picker element.\n",
              " * @param {string} outputId Element ID of the output display.\n",
              " * @return {!Iterable<!Object>} Iterable of next steps.\n",
              " */\n",
              "function* uploadFilesStep(inputId, outputId) {\n",
              "  const inputElement = document.getElementById(inputId);\n",
              "  inputElement.disabled = false;\n",
              "\n",
              "  const outputElement = document.getElementById(outputId);\n",
              "  outputElement.innerHTML = '';\n",
              "\n",
              "  const pickedPromise = new Promise((resolve) => {\n",
              "    inputElement.addEventListener('change', (e) => {\n",
              "      resolve(e.target.files);\n",
              "    });\n",
              "  });\n",
              "\n",
              "  const cancel = document.createElement('button');\n",
              "  inputElement.parentElement.appendChild(cancel);\n",
              "  cancel.textContent = 'Cancel upload';\n",
              "  const cancelPromise = new Promise((resolve) => {\n",
              "    cancel.onclick = () => {\n",
              "      resolve(null);\n",
              "    };\n",
              "  });\n",
              "\n",
              "  // Wait for the user to pick the files.\n",
              "  const files = yield {\n",
              "    promise: Promise.race([pickedPromise, cancelPromise]),\n",
              "    response: {\n",
              "      action: 'starting',\n",
              "    }\n",
              "  };\n",
              "\n",
              "  cancel.remove();\n",
              "\n",
              "  // Disable the input element since further picks are not allowed.\n",
              "  inputElement.disabled = true;\n",
              "\n",
              "  if (!files) {\n",
              "    return {\n",
              "      response: {\n",
              "        action: 'complete',\n",
              "      }\n",
              "    };\n",
              "  }\n",
              "\n",
              "  for (const file of files) {\n",
              "    const li = document.createElement('li');\n",
              "    li.append(span(file.name, {fontWeight: 'bold'}));\n",
              "    li.append(span(\n",
              "        `(${file.type || 'n/a'}) - ${file.size} bytes, ` +\n",
              "        `last modified: ${\n",
              "            file.lastModifiedDate ? file.lastModifiedDate.toLocaleDateString() :\n",
              "                                    'n/a'} - `));\n",
              "    const percent = span('0% done');\n",
              "    li.appendChild(percent);\n",
              "\n",
              "    outputElement.appendChild(li);\n",
              "\n",
              "    const fileDataPromise = new Promise((resolve) => {\n",
              "      const reader = new FileReader();\n",
              "      reader.onload = (e) => {\n",
              "        resolve(e.target.result);\n",
              "      };\n",
              "      reader.readAsArrayBuffer(file);\n",
              "    });\n",
              "    // Wait for the data to be ready.\n",
              "    let fileData = yield {\n",
              "      promise: fileDataPromise,\n",
              "      response: {\n",
              "        action: 'continue',\n",
              "      }\n",
              "    };\n",
              "\n",
              "    // Use a chunked sending to avoid message size limits. See b/62115660.\n",
              "    let position = 0;\n",
              "    do {\n",
              "      const length = Math.min(fileData.byteLength - position, MAX_PAYLOAD_SIZE);\n",
              "      const chunk = new Uint8Array(fileData, position, length);\n",
              "      position += length;\n",
              "\n",
              "      const base64 = btoa(String.fromCharCode.apply(null, chunk));\n",
              "      yield {\n",
              "        response: {\n",
              "          action: 'append',\n",
              "          file: file.name,\n",
              "          data: base64,\n",
              "        },\n",
              "      };\n",
              "\n",
              "      let percentDone = fileData.byteLength === 0 ?\n",
              "          100 :\n",
              "          Math.round((position / fileData.byteLength) * 100);\n",
              "      percent.textContent = `${percentDone}% done`;\n",
              "\n",
              "    } while (position < fileData.byteLength);\n",
              "  }\n",
              "\n",
              "  // All done.\n",
              "  yield {\n",
              "    response: {\n",
              "      action: 'complete',\n",
              "    }\n",
              "  };\n",
              "}\n",
              "\n",
              "scope.google = scope.google || {};\n",
              "scope.google.colab = scope.google.colab || {};\n",
              "scope.google.colab._files = {\n",
              "  _uploadFiles,\n",
              "  _uploadFilesContinue,\n",
              "};\n",
              "})(self);\n",
              "</script> "
            ]
          },
          "metadata": {}
        },
        {
          "output_type": "stream",
          "name": "stdout",
          "text": [
            "Saving train.csv to train.csv\n"
          ]
        }
      ]
    },
    {
      "cell_type": "code",
      "source": [
        "import os\n",
        "os.makedirs(\"data/processed\", exist_ok=True)\n",
        "!mv train.csv data/processed/train.csv\n",
        "#!mv val.csv data/processed/val.csv\n",
        "#!mv test.csv data/processed/test.csv\n",
        "!ls data/processed"
      ],
      "metadata": {
        "colab": {
          "base_uri": "https://localhost:8080/"
        },
        "id": "7QKVkrO2xywY",
        "outputId": "a22b739b-679b-44b4-b874-0df23c47da7a"
      },
      "execution_count": 6,
      "outputs": [
        {
          "output_type": "stream",
          "name": "stdout",
          "text": [
            "test.csv  train.csv  val.csv\n"
          ]
        }
      ]
    },
    {
      "cell_type": "code",
      "source": [
        "train = pd.read_csv(\"data/processed/train.csv\")\n",
        "val   = pd.read_csv(\"data/processed/val.csv\")\n",
        "test  = pd.read_csv(\"data/processed/test.csv\")"
      ],
      "metadata": {
        "id": "rDEyfQgLx1mE"
      },
      "execution_count": 7,
      "outputs": []
    },
    {
      "cell_type": "code",
      "source": [
        "print(train.shape, val.shape, test.shape)"
      ],
      "metadata": {
        "colab": {
          "base_uri": "https://localhost:8080/"
        },
        "id": "ZEVyUPAkyQ01",
        "outputId": "69a2f158-34ef-4052-922a-afd763d0f460"
      },
      "execution_count": 8,
      "outputs": [
        {
          "output_type": "stream",
          "name": "stdout",
          "text": [
            "(37554, 2) (4489, 3) (4489, 3)\n"
          ]
        }
      ]
    },
    {
      "cell_type": "code",
      "source": [
        "from sklearn.feature_extraction.text import TfidfVectorizer\n",
        "from sklearn.linear_model import LogisticRegression\n",
        "from sklearn.svm import LinearSVC\n",
        "\n",
        "X_train, y_train = train['text_clean'], train['label']\n",
        "X_val,   y_val   = val['text_clean'], val['label']\n",
        "X_test,  y_test  = test['text_clean'], test['label']\n",
        "\n",
        "# Vectorize\n",
        "tfidf = TfidfVectorizer(max_features=20000, ngram_range=(1,2))\n",
        "X_train_vec = tfidf.fit_transform(X_train)\n",
        "X_val_vec   = tfidf.transform(X_val)\n",
        "X_test_vec  = tfidf.transform(X_test)\n",
        "\n",
        "lr = LogisticRegression(max_iter=300)\n",
        "lr.fit(X_train_vec, y_train)\n",
        "pred_lr = lr.predict(X_test_vec)\n",
        "\n",
        "svm = LinearSVC()\n",
        "svm.fit(X_train_vec, y_train)\n",
        "pred_svm = svm.predict(X_test_vec)"
      ],
      "metadata": {
        "id": "C2pw5YiYyUDC"
      },
      "execution_count": 20,
      "outputs": []
    },
    {
      "cell_type": "code",
      "source": [
        "def eval_model(name, y_true, y_pred):\n",
        "    acc = accuracy_score(y_true, y_pred)\n",
        "    f1  = f1_score(y_true, y_pred)\n",
        "    print(f\"{name} → Accuracy:{acc:.4f}, F1:{f1:.4f}\")\n",
        "    return acc, f1\n",
        "\n",
        "res = {}\n",
        "res['LR']  = eval_model('Logistic Regression', y_test, pred_lr)\n",
        "res['SVM'] = eval_model('SVM', y_test, pred_svm)"
      ],
      "metadata": {
        "colab": {
          "base_uri": "https://localhost:8080/"
        },
        "id": "CxDp3nCsybRN",
        "outputId": "1045b343-fe87-4e8d-87a7-6d73365d02cb"
      },
      "execution_count": 21,
      "outputs": [
        {
          "output_type": "stream",
          "name": "stdout",
          "text": [
            "Logistic Regression → Accuracy:0.9904, F1:0.9908\n",
            "SVM → Accuracy:0.9975, F1:0.9977\n"
          ]
        }
      ]
    },
    {
      "cell_type": "code",
      "source": [
        "import tensorflow as tf\n",
        "from tensorflow.keras.preprocessing.text import Tokenizer\n",
        "from tensorflow.keras.preprocessing.sequence import pad_sequences\n",
        "from tensorflow.keras import Sequential\n",
        "from tensorflow.keras.layers import Embedding, LSTM, Dense, Dropout\n",
        "\n",
        "tokenizer = Tokenizer(num_words=20000, oov_token='<OOV>')\n",
        "tokenizer.fit_on_texts(train['text_clean'])\n",
        "train_seq = tokenizer.texts_to_sequences(train['text_clean'])\n",
        "val_seq   = tokenizer.texts_to_sequences(val['text_clean'])\n",
        "test_seq  = tokenizer.texts_to_sequences(test['text_clean'])\n",
        "\n",
        "max_len = 300\n",
        "X_train_pad = pad_sequences(train_seq, maxlen=max_len)\n",
        "X_val_pad   = pad_sequences(val_seq, maxlen=max_len)\n",
        "X_test_pad  = pad_sequences(test_seq, maxlen=max_len)\n",
        "\n",
        "model = Sequential([\n",
        "    Embedding(input_dim=20000, output_dim=128, input_length=max_len),\n",
        "    LSTM(128, dropout=0.3, recurrent_dropout=0.3),\n",
        "    Dense(1, activation='sigmoid')\n",
        "])\n",
        "\n",
        "model.compile(loss='binary_crossentropy', optimizer='adam', metrics=['accuracy'])\n",
        "history = model.fit(X_train_pad, train['label'],\n",
        "                    validation_data=(X_val_pad, val['label']),\n",
        "                    epochs=3, batch_size=128)\n",
        "\n",
        "pred_lstm = (model.predict(X_test_pad) > 0.5).astype('int32')\n",
        "res['LSTM'] = eval_model('LSTM', test['label'], pred_lstm)"
      ],
      "metadata": {
        "colab": {
          "base_uri": "https://localhost:8080/"
        },
        "id": "HfyZquyTyd5Z",
        "outputId": "92c674ce-786c-4e25-b93e-3271daa2ab95"
      },
      "execution_count": 25,
      "outputs": [
        {
          "output_type": "stream",
          "name": "stdout",
          "text": [
            "Epoch 1/3\n"
          ]
        },
        {
          "output_type": "stream",
          "name": "stderr",
          "text": [
            "/usr/local/lib/python3.12/dist-packages/keras/src/layers/core/embedding.py:97: UserWarning: Argument `input_length` is deprecated. Just remove it.\n",
            "  warnings.warn(\n"
          ]
        },
        {
          "output_type": "stream",
          "name": "stdout",
          "text": [
            "\u001b[1m294/294\u001b[0m \u001b[32m━━━━━━━━━━━━━━━━━━━━\u001b[0m\u001b[37m\u001b[0m \u001b[1m624s\u001b[0m 2s/step - accuracy: 0.9084 - loss: 0.2468 - val_accuracy: 0.9866 - val_loss: 0.0514\n",
            "Epoch 2/3\n",
            "\u001b[1m294/294\u001b[0m \u001b[32m━━━━━━━━━━━━━━━━━━━━\u001b[0m\u001b[37m\u001b[0m \u001b[1m615s\u001b[0m 2s/step - accuracy: 0.9868 - loss: 0.0426 - val_accuracy: 0.9775 - val_loss: 0.0646\n",
            "Epoch 3/3\n",
            "\u001b[1m294/294\u001b[0m \u001b[32m━━━━━━━━━━━━━━━━━━━━\u001b[0m\u001b[37m\u001b[0m \u001b[1m622s\u001b[0m 2s/step - accuracy: 0.9869 - loss: 0.0389 - val_accuracy: 0.9791 - val_loss: 0.0711\n",
            "\u001b[1m141/141\u001b[0m \u001b[32m━━━━━━━━━━━━━━━━━━━━\u001b[0m\u001b[37m\u001b[0m \u001b[1m20s\u001b[0m 141ms/step\n",
            "LSTM → Accuracy:0.9777, F1:0.9787\n"
          ]
        }
      ]
    },
    {
      "cell_type": "code",
      "source": [
        "# 6️⃣ Replacement Model — TF-IDF + Logistic Regression (no transformers)\n",
        "\n",
        "from sklearn.feature_extraction.text import TfidfVectorizer\n",
        "from sklearn.linear_model import LogisticRegression\n",
        "from sklearn.metrics import accuracy_score, f1_score\n",
        "import numpy as np\n",
        "import pandas as pd\n",
        "\n",
        "# Use train+val to learn final model, test for evaluation\n",
        "X_train = pd.concat([train['text_clean'], val['text_clean']], axis=0).values\n",
        "y_train = pd.concat([train['label'],      val['label']],      axis=0).values\n",
        "X_test  = test['text_clean'].values\n",
        "y_test  = test['label'].values\n",
        "\n",
        "# Vectorize text\n",
        "tfidf = TfidfVectorizer(max_features=20000, ngram_range=(1,2), min_df=2)\n",
        "Xtr = tfidf.fit_transform(X_train)\n",
        "Xte = tfidf.transform(X_test)\n",
        "\n",
        "# Train classifier\n",
        "clf = LogisticRegression(max_iter=500, n_jobs=-1)\n",
        "clf.fit(Xtr, y_train)\n",
        "\n",
        "# Predict on test\n",
        "y_pred = clf.predict(Xte)\n",
        "\n",
        "# Log metrics (update the key name if your notebook expects 'DistilBERT')\n",
        "res_key = 'TFIDF_LogReg'   # change to 'DistilBERT' if your later code expects that key\n",
        "acc = accuracy_score(y_test, y_pred)\n",
        "f1  = f1_score(y_test, y_pred)\n",
        "print(f\"{res_key} → Accuracy:{acc:.4f}, F1:{f1:.4f}\")\n",
        "\n",
        "# If you have eval_model() defined earlier:\n",
        "try:\n",
        "    res[res_key] = eval_model(res_key, y_test, y_pred)\n",
        "except NameError:\n",
        "    # Fallback if eval_model isn't defined\n",
        "    if 'res' not in globals():\n",
        "        res = {}\n",
        "    res[res_key] = (acc, f1)\n",
        "\n",
        "# (Optional) save small artifacts to keep parity with your pipeline\n",
        "import os, joblib, matplotlib.pyplot as plt\n",
        "os.makedirs('results/metrics', exist_ok=True)\n",
        "os.makedirs('results/models',  exist_ok=True)\n",
        "os.makedirs('results/figs',    exist_ok=True)\n",
        "\n",
        "# Save metrics table\n",
        "pd.DataFrame([{'Model':res_key, 'Accuracy':acc, 'F1':f1}]\n",
        "            ).to_csv('results/metrics/model_metrics_tfidf_logreg.csv', index=False)\n",
        "\n",
        "# Save model for Member D\n",
        "joblib.dump(tfidf, 'results/models/tfidf.joblib')\n",
        "joblib.dump(clf,   'results/models/logreg.joblib')\n",
        "\n",
        "# Quick bar plot\n",
        "plt.bar(['Accuracy','F1'], [acc, f1])\n",
        "plt.ylim(0,1)\n",
        "plt.title(f'{res_key} Performance on Test')\n",
        "plt.tight_layout()\n",
        "plt.savefig('results/figs/tfidf_logreg_performance.png')\n",
        "plt.show()\n"
      ],
      "metadata": {
        "colab": {
          "base_uri": "https://localhost:8080/",
          "height": 522
        },
        "id": "XVIAvc0eAzkL",
        "outputId": "33d48301-fbbf-43fd-d2a8-2a597beac0c1"
      },
      "execution_count": 22,
      "outputs": [
        {
          "output_type": "stream",
          "name": "stdout",
          "text": [
            "TFIDF_LogReg → Accuracy:0.9909, F1:0.9912\n",
            "TFIDF_LogReg → Accuracy:0.9909, F1:0.9912\n"
          ]
        },
        {
          "output_type": "display_data",
          "data": {
            "text/plain": [
              "<Figure size 640x480 with 1 Axes>"
            ],
            "image/png": "[encoded data removed]"
          },
          "metadata": {}
        }
      ]
    },
    {
      "cell_type": "code",
      "source": [
        "# 7️⃣ Compare All Models and Plot Results\n",
        "import pandas as pd\n",
        "import matplotlib.pyplot as plt\n",
        "import os\n",
        "\n",
        "os.makedirs('results/figs', exist_ok=True)\n",
        "\n",
        "df_res = pd.DataFrame(\n",
        "    [(k, v[0], v[1]) for k, v in res.items()],\n",
        "    columns=['Model', 'Accuracy', 'F1']\n",
        ")\n",
        "\n",
        "df_res.to_csv('results/model_metrics.csv', index=False)\n",
        "print(df_res)\n",
        "\n",
        "df_res.plot(x='Model', y=['Accuracy', 'F1'], kind='bar', figsize=(7, 4))\n",
        "plt.title('Model Performance Comparison')\n",
        "plt.tight_layout()\n",
        "plt.savefig('results/figs/model_comparison.png')\n",
        "plt.show()\n"
      ],
      "metadata": {
        "colab": {
          "base_uri": "https://localhost:8080/",
          "height": 494
        },
        "id": "IjRJ5sChD7Ij",
        "outputId": "5441617a-d2a2-495d-871f-dab508aea7ba"
      },
      "execution_count": 26,
      "outputs": [
        {
          "output_type": "stream",
          "name": "stdout",
          "text": [
            "          Model  Accuracy        F1\n",
            "0            LR  0.990421  0.990798\n",
            "1           SVM  0.997550  0.997656\n",
            "2  TFIDF_LogReg  0.990867  0.991234\n",
            "3          LSTM  0.977723  0.978723\n"
          ]
        },
        {
          "output_type": "display_data",
          "data": {
            "text/plain": [
              "<Figure size 700x400 with 1 Axes>"
            ],
            "image/png": "[encoded data removed]"
          },
          "metadata": {}
        }
      ]
    },
    {
      "cell_type": "code",
      "source": [
        "import joblib, os\n",
        "\n",
        "os.makedirs('results/models', exist_ok=True)\n",
        "\n",
        "# Save classical models\n",
        "joblib.dump(lr,   'results/models/logreg.joblib')\n",
        "joblib.dump(svm,  'results/models/svm.joblib')\n",
        "\n",
        "# Save your TF-IDF + LogReg pipeline (if you built it)\n",
        "joblib.dump(tfidf, 'results/models/tfidf_vectorizer.joblib')\n",
        "joblib.dump(clf,   'results/models/tfidf_logreg.joblib')\n",
        "\n",
        "# Save LSTM model\n",
        "model.save('results/models/lstm.h5')\n",
        "\n",
        "print(\"✅ All models saved in results/models/\")\n",
        "!ls -lh results/models\n"
      ],
      "metadata": {
        "colab": {
          "base_uri": "https://localhost:8080/"
        },
        "id": "WAeGBB6TNg-D",
        "outputId": "868224dd-a686-4f70-f827-ad57a249a06f"
      },
      "execution_count": 28,
      "outputs": [
        {
          "output_type": "stream",
          "name": "stderr",
          "text": [
            "WARNING:absl:You are saving your model as an HDF5 file via `model.save()` or `keras.saving.save_model(model)`. This file format is considered legacy. We recommend using instead the native Keras format, e.g. `model.save('my_model.keras')` or `keras.saving.save_model(model, 'my_model.keras')`. \n"
          ]
        },
        {
          "output_type": "stream",
          "name": "stdout",
          "text": [
            "✅ All models saved in results/models/\n",
            "total 33M\n",
            "-rw-r--r-- 1 root root 158K Oct  9 09:03 logreg.joblib\n",
            "-rw-r--r-- 1 root root  31M Oct  9 09:03 lstm.h5\n",
            "-rw-r--r-- 1 root root 157K Oct  9 09:03 svm.joblib\n",
            "-rw-r--r-- 1 root root 770K Oct  9 08:17 tfidf.joblib\n",
            "-rw-r--r-- 1 root root 158K Oct  9 09:03 tfidf_logreg.joblib\n",
            "-rw-r--r-- 1 root root 770K Oct  9 09:03 tfidf_vectorizer.joblib\n"
          ]
        }
      ]
    },
    {
      "cell_type": "code",
      "source": [
        "# Add your notebook and lightweight outputs\n",
        "!git add -f results/model_metrics.csv \\\n",
        "           results/figs/model_comparison.png\n",
        "\n",
        "# Commit with clear message\n",
        "!git commit -m \"Member C – model training (LR, SVM, TFIDF_LogReg, LSTM)\"\n",
        "\n",
        "# Push to your feature branch\n",
        "!git push --set-upstream origin feat/memberC-models\n"
      ],
      "metadata": {
        "colab": {
          "base_uri": "https://localhost:8080/"
        },
        "id": "UcJM-N1SOBfG",
        "outputId": "03b3a0e8-77b6-4eb1-9bcb-0050a09c624d"
      },
      "execution_count": 29,
      "outputs": [
        {
          "output_type": "stream",
          "name": "stdout",
          "text": [
            "[feat/memberC-models cd5d81f] Member C – model training (LR, SVM, TFIDF_LogReg, LSTM)\n",
            " 2 files changed, 5 insertions(+)\n",
            " create mode 100644 results/figs/model_comparison.png\n",
            " create mode 100644 results/model_metrics.csv\n",
            "Enumerating objects: 9, done.\n",
            "Counting objects: 100% (9/9), done.\n",
            "Delta compression using up to 2 threads\n",
            "Compressing objects: 100% (6/6), done.\n",
            "Writing objects: 100% (6/6), 14.48 KiB | 7.24 MiB/s, done.\n",
            "Total 6 (delta 2), reused 0 (delta 0), pack-reused 0\n",
            "remote: Resolving deltas: 100% (2/2), completed with 2 local objects.\u001b[K\n",
            "remote: \n",
            "remote: Create a pull request for 'feat/memberC-models' on GitHub by visiting:\u001b[K\n",
            "remote:      https://github.com/IT22232236/fake-news-detection/pull/new/feat/memberC-models\u001b[K\n",
            "remote: \n",
            "To https://github.com/IT22232236/fake-news-detection.git\n",
            " * [new branch]      feat/memberC-models -> feat/memberC-models\n",
            "Branch 'feat/memberC-models' set up to track remote branch 'feat/memberC-models' from 'origin'.\n"
          ]
        }
      ]
    },
    {
      "cell_type": "code",
      "source": [
        "# Add your notebook and lightweight outputs\n",
        "!git add -f results/figs/tfidf_logreg_performance.png \\\n",
        "           results/figs/final_model_comparison.png\n",
        "\n",
        "# Commit with clear message\n",
        "!git commit -m \"Member C – model training (LR, SVM, TFIDF_LogReg, LSTM)\"\n",
        "\n",
        "# Push to your feature branch\n",
        "!git push --set-upstream origin feat/memberC-models"
      ],
      "metadata": {
        "colab": {
          "base_uri": "https://localhost:8080/"
        },
        "id": "q8yFGPvZQKIH",
        "outputId": "9aa42f48-0e50-47ee-e651-ccfd63ee54a9"
      },
      "execution_count": 31,
      "outputs": [
        {
          "output_type": "stream",
          "name": "stdout",
          "text": [
            "[feat/memberC-models 3a08fdf] Member C – model training (LR, SVM, TFIDF_LogReg, LSTM)\n",
            " 2 files changed, 0 insertions(+), 0 deletions(-)\n",
            " create mode 100644 results/figs/final_model_comparison.png\n",
            " create mode 100644 results/figs/tfidf_logreg_performance.png\n",
            "Enumerating objects: 9, done.\n",
            "Counting objects: 100% (9/9), done.\n",
            "Delta compression using up to 2 threads\n",
            "Compressing objects: 100% (6/6), done.\n",
            "Writing objects: 100% (6/6), 25.91 KiB | 12.96 MiB/s, done.\n",
            "Total 6 (delta 3), reused 0 (delta 0), pack-reused 0\n",
            "remote: Resolving deltas: 100% (3/3), completed with 3 local objects.\u001b[K\n",
            "To https://github.com/IT22232236/fake-news-detection.git\n",
            "   cd5d81f..3a08fdf  feat/memberC-models -> feat/memberC-models\n",
            "Branch 'feat/memberC-models' set up to track remote branch 'feat/memberC-models' from 'origin'.\n"
          ]
        }
      ]
    },
    {
      "cell_type": "code",
      "source": [
        "from google.colab import drive\n",
        "drive.mount('/content/drive')\n",
        "\n",
        "!mkdir -p '/content/drive/MyDrive/fake_news_project/models'\n",
        "!cp results/models/* '/content/drive/MyDrive/fake_news_project/models/'\n",
        "print(\"✅ Models copied to Google Drive.\")\n"
      ],
      "metadata": {
        "colab": {
          "base_uri": "https://localhost:8080/"
        },
        "id": "9wO0KFG_Pa5A",
        "outputId": "d7b4bd5d-dd1a-4161-89f5-091c0cd79bcc"
      },
      "execution_count": 30,
      "outputs": [
        {
          "output_type": "stream",
          "name": "stdout",
          "text": [
            "Mounted at /content/drive\n",
            "✅ Models copied to Google Drive.\n"
          ]
        }
      ]
    }
  ]
}