{
  "nbformat": 4,
  "nbformat_minor": 0,
  "metadata": {
    "colab": {
      "provenance": [],
      "authorship_tag": "ABX9TyPKBGiQl8QBBm0fpFR8hSMx",
      "include_colab_link": true
    },
    "kernelspec": {
      "name": "python3",
      "display_name": "Python 3"
    },
    "language_info": {
      "name": "python"
    }
  },
  "cells": [
    {
      "cell_type": "markdown",
      "metadata": {
        "id": "view-in-github",
        "colab_type": "text"
      },
      "source": [
        "<a href=\"https://colab.research.google.com/github/IT22232236/fake-news-detection/blob/main/notebooks/Evaluation.ipynb\" target=\"_parent\"><img src=\"https://colab.research.google.com/assets/colab-badge.svg\" alt=\"Open In Colab\"/></a>"
      ]
    },
    {
      "cell_type": "code",
      "execution_count": 48,
      "metadata": {
        "id": "vDnEAYbWooYS"
      },
      "outputs": [],
      "source": [
        "\n",
        "!git config --global user.email \"it22232236@my.sliit.lk\"\n",
        "!git config --global user.name \"IT22232236\"\n",
        ""
      ]
    },
    {
      "cell_type": "code",
      "source": [
        "REPO = \"fake-news-detection\"\n",
        "OWNER = \"IT22232236\"       # repo owner’s username (yours)\n",
        "TOKEN = \"token\"\n",
        "\n",
        "!git clone https://{TOKEN}@github.com/{OWNER}/{REPO}.git\n",
        "%cd /content/{REPO}"
      ],
      "metadata": {
        "colab": {
          "base_uri": "https://localhost:8080/"
        },
        "id": "beDZiWoVuygM",
        "outputId": "6fdeaba6-75ba-4d1d-fb82-2a2654ff0399"
      },
      "execution_count": 49,
      "outputs": [
        {
          "output_type": "stream",
          "name": "stdout",
          "text": [
            "fatal: destination path 'fake-news-detection' already exists and is not an empty directory.\n",
            "/content/fake-news-detection\n"
          ]
        }
      ]
    },
    {
      "cell_type": "code",
      "source": [
        "BRANCH = \"feat/memberC-evaluation\"\n",
        "!git checkout -b {BRANCH}"
      ],
      "metadata": {
        "colab": {
          "base_uri": "https://localhost:8080/"
        },
        "id": "qPIkU2YPo-ah",
        "outputId": "df8657ff-f560-44d8-8c62-048c83dc2b1f"
      },
      "execution_count": 51,
      "outputs": [
        {
          "output_type": "stream",
          "name": "stdout",
          "text": [
            "fatal: A branch named 'feat/memberC-evaluation' already exists.\n"
          ]
        }
      ]
    },
    {
      "cell_type": "code",
      "source": [
        "from google.colab import drive\n",
        "drive.mount('/content/drive')\n",
        "\n",
        "!mkdir -p results/models\n",
        "!cp '/content/drive/MyDrive/fake_news_project/models/'* results/models/\n",
        "print(\"✅ Models copied locally for Member D.\")"
      ],
      "metadata": {
        "colab": {
          "base_uri": "https://localhost:8080/"
        },
        "id": "VNbL48iypcOn",
        "outputId": "6a378bf4-d46f-4890-f9ba-b9bfd59981cd"
      },
      "execution_count": 9,
      "outputs": [
        {
          "output_type": "stream",
          "name": "stdout",
          "text": [
            "Drive already mounted at /content/drive; to attempt to forcibly remount, call drive.mount(\"/content/drive\", force_remount=True).\n",
            "cp: cannot stat '/content/drive/MyDrive/fake_news_project/models/*': No such file or directory\n",
            "✅ Models copied locally for Member D.\n"
          ]
        }
      ]
    },
    {
      "cell_type": "code",
      "source": [
        "import joblib, tensorflow as tf\n",
        "\n",
        "# Define the correct base path in Google Drive\n",
        "MODEL_DIR = \"/content/drive/MyDrive/fake_news_project/models\"\n",
        "\n",
        "import re\n",
        "\n",
        "def clean_text(t):\n",
        "    \"\"\"Cleans the input text for fake news detection.\"\"\"\n",
        "    t = t.lower()\n",
        "    t = re.sub(r\"http\\S+\", \"\", t)\n",
        "    t = re.sub(r\"[^a-z\\s]\", \"\", t)\n",
        "    t = re.sub(r\"\\s+\", \" \", t).strip()\n",
        "    return t\n",
        "\n",
        "# --- Classical Models ---\n",
        "lr_model        = joblib.load(f\"{MODEL_DIR}/logreg.joblib\")\n",
        "svm_model       = joblib.load(f\"{MODEL_DIR}/svm.joblib\")\n",
        "tfidf_vectorizer= joblib.load(f\"{MODEL_DIR}/tfidf_vectorizer.joblib\")\n",
        "tfidf_logreg    = joblib.load(f\"{MODEL_DIR}/tfidf_logreg.joblib\")\n",
        "\n",
        "# --- Deep Learning Model ---\n",
        "lstm_model      = tf.keras.models.load_model(f\"{MODEL_DIR}/lstm.h5\")\n",
        "lstm_tokenizer  = joblib.load(f\"{MODEL_DIR}/lstm_tokenizer.joblib\")\n",
        "\n",
        "print(\"✅ All 4 models and tokenizer loaded successfully!\")\n"
      ],
      "metadata": {
        "colab": {
          "base_uri": "https://localhost:8080/"
        },
        "id": "vheSpiKFphZ-",
        "outputId": "c3c46c60-c699-4ed9-f512-58a526513fef"
      },
      "execution_count": 56,
      "outputs": [
        {
          "output_type": "stream",
          "name": "stderr",
          "text": [
            "WARNING:absl:Compiled the loaded model, but the compiled metrics have yet to be built. `model.compile_metrics` will be empty until you train or evaluate the model.\n"
          ]
        },
        {
          "output_type": "stream",
          "name": "stdout",
          "text": [
            "✅ All 4 models and tokenizer loaded successfully!\n"
          ]
        }
      ]
    },
    {
      "cell_type": "code",
      "source": [
        "from tensorflow.keras.preprocessing.sequence import pad_sequences\n",
        "import numpy as np\n",
        "\n",
        "def predict_fake_news(text):\n",
        "    \"\"\"\n",
        "    Predict Fake/Real using:\n",
        "      1. TF-IDF + Logistic Regression\n",
        "      2. SVM\n",
        "      3. LSTM\n",
        "    Returns each result and a majority-vote decision.\n",
        "    \"\"\"\n",
        "    results = {}\n",
        "    text_cleaned = clean_text(text)\n",
        "\n",
        "    # --- 1. TF-IDF + Logistic Regression ---\n",
        "    X_tfidf = tfidf_vectorizer.transform([text_cleaned])\n",
        "    pred_tfidf = tfidf_logreg.predict(X_tfidf)[0]\n",
        "    prob_tfidf = tfidf_logreg.predict_proba(X_tfidf)[0][pred_tfidf]\n",
        "    results['TFIDF_LogReg'] = ('Fake' if pred_tfidf else 'Real', round(prob_tfidf, 3))\n",
        "\n",
        "    # --- 2. SVM ---\n",
        "    pred_svm = svm_model.predict(X_tfidf)[0]\n",
        "    score = svm_model.decision_function(X_tfidf)[0]\n",
        "    svm_conf = float(1 / (1 + np.exp(-abs(score))))   # pseudo-confidence\n",
        "    results['SVM'] = ('Fake' if pred_svm else 'Real', round(svm_conf, 3))\n",
        "\n",
        "    # --- 3. LSTM ---\n",
        "    seq = lstm_tokenizer.texts_to_sequences([text_cleaned])\n",
        "    pad = pad_sequences(seq, maxlen=300)\n",
        "    prob_fake = float(lstm_model.predict(pad, verbose=0)[0][0])\n",
        "    pred_lstm = 1 if prob_fake >= 0.5 else 0\n",
        "    results['LSTM'] = ('Fake' if pred_lstm else 'Real', round(prob_fake, 3))\n",
        "\n",
        "    # --- Majority Vote ---\n",
        "    votes = [label for label, _ in results.values()]\n",
        "    final = 'Fake' if votes.count('Fake') >= 2 else 'Real'\n",
        "    results['Majority_Vote'] = (final, None)\n",
        "\n",
        "    return results\n"
      ],
      "metadata": {
        "id": "vC7nijDNqky_"
      },
      "execution_count": 24,
      "outputs": []
    },
    {
      "cell_type": "code",
      "source": [
        "news_text = input(\"Enter a news headline or paragraph:\\n\")\n",
        "preds = predict_fake_news(news_text)\n",
        "\n",
        "print(\"\\n🧾 Prediction Results:\")\n",
        "for model, (label, prob) in preds.items():\n",
        "    print(f\"{model:15s}: {label}  (Confidence: {prob})\")\n"
      ],
      "metadata": {
        "colab": {
          "base_uri": "https://localhost:8080/"
        },
        "id": "_P_mFu82qnR-",
        "outputId": "44392e41-2ea1-4b1c-d5fa-6ed572a05198"
      },
      "execution_count": 55,
      "outputs": [
        {
          "output_type": "stream",
          "name": "stdout",
          "text": [
            "Enter a news headline or paragraph:\n",
            "Apple announces that the next iPhone will come with a built-in teleportation feature.\n",
            "\n",
            "🧾 Prediction Results:\n",
            "TFIDF_LogReg   : Fake  (Confidence: 0.754)\n",
            "SVM            : Fake  (Confidence: 0.532)\n",
            "LSTM           : Fake  (Confidence: 0.999)\n",
            "Majority_Vote  : Fake  (Confidence: None)\n"
          ]
        }
      ]
    },
    {
      "cell_type": "code",
      "source": [
        "news_text = input(\"Enter a news headline or paragraph:\\n\")\n",
        "preds = predict_fake_news(news_text)\n",
        "\n",
        "print(\"\\n🧾 Prediction Results:\")\n",
        "for model, (label, prob) in preds.items():\n",
        "    print(f\"{model}: {label} (Confidence: {prob})\")"
      ],
      "metadata": {
        "colab": {
          "base_uri": "https://localhost:8080/"
        },
        "id": "CAPeWTxNrKW0",
        "outputId": "771426fa-82b2-46f6-ff58-bc6f9d34753a"
      },
      "execution_count": 26,
      "outputs": [
        {
          "output_type": "stream",
          "name": "stdout",
          "text": [
            "Enter a news headline or paragraph:\n",
            "Breaking: Scientists confirm aliens have built a base on the dark side of the moon!\n",
            "\n",
            "🧾 Prediction Results:\n",
            "TFIDF_LogReg: Fake (Confidence: 0.918)\n",
            "SVM: Fake (Confidence: 0.569)\n",
            "LSTM: Fake (Confidence: 0.997)\n",
            "Majority_Vote: Fake (Confidence: None)\n"
          ]
        }
      ]
    },
    {
      "cell_type": "code",
      "source": [
        "import pandas as pd, matplotlib.pyplot as plt, seaborn as sns\n",
        "\n",
        "df = pd.read_csv('results/model_metrics.csv')\n",
        "print(df)\n",
        "\n",
        "plt.figure(figsize=(8,4))\n",
        "sns.barplot(x='Model', y='Accuracy', data=df, color='steelblue', label='Accuracy')\n",
        "sns.barplot(x='Model', y='F1', data=df, color='orange', alpha=0.6, label='F1-Score')\n",
        "plt.title('Fake News Detection – Model Comparison')\n",
        "plt.ylim(0.9,1.0)\n",
        "plt.legend()\n",
        "plt.tight_layout()\n",
        "plt.show()"
      ],
      "metadata": {
        "colab": {
          "base_uri": "https://localhost:8080/",
          "height": 494
        },
        "id": "tHDUhqhsvGEV",
        "outputId": "6ab1c959-3eb9-489d-aa51-2e77c2612ca9"
      },
      "execution_count": 27,
      "outputs": [
        {
          "output_type": "stream",
          "name": "stdout",
          "text": [
            "          Model  Accuracy        F1\n",
            "0            LR  0.990421  0.990798\n",
            "1           SVM  0.997550  0.997656\n",
            "2  TFIDF_LogReg  0.990867  0.991234\n",
            "3          LSTM  0.977723  0.978723\n"
          ]
        },
        {
          "output_type": "display_data",
          "data": {
            "text/plain": [
              "<Figure size 800x400 with 1 Axes>"
            ],
            "image/png": "[encoded data removed]"
          },
          "metadata": {}
        }
      ]
    },
    {
      "cell_type": "code",
      "source": [
        "!pip -q install streamlit==1.37.0 pyngrok==7.1.6\n",
        "from google.colab import drive\n",
        "drive.mount('/content/drive')\n",
        "\n",
        "MODEL_DIR = \"/content/drive/MyDrive/fake_news_project/models\"\n"
      ],
      "metadata": {
        "colab": {
          "base_uri": "https://localhost:8080/"
        },
        "id": "2zwACSmZBdxo",
        "outputId": "41bf4587-96e3-41bd-a144-822a802678e5"
      },
      "execution_count": 31,
      "outputs": [
        {
          "output_type": "stream",
          "name": "stdout",
          "text": [
            "\u001b[?25l   \u001b[90m━━━━━━━━━━━━━━━━━━━━━━━━━━━━━━━━━━━━━━━━\u001b[0m \u001b[32m0.0/8.7 MB\u001b[0m \u001b[31m?\u001b[0m eta \u001b[36m-:--:--\u001b[0m\r\u001b[2K   \u001b[91m━━━━━━━━━━━━━━━━━━━━━━\u001b[0m\u001b[91m╸\u001b[0m\u001b[90m━━━━━━━━━━━━━━━━━\u001b[0m \u001b[32m5.0/8.7 MB\u001b[0m \u001b[31m149.8 MB/s\u001b[0m eta \u001b[36m0:00:01\u001b[0m\r\u001b[2K   \u001b[91m━━━━━━━━━━━━━━━━━━━━━━━━━━━━━━━━━━━━━━━\u001b[0m\u001b[91m╸\u001b[0m \u001b[32m8.6/8.7 MB\u001b[0m \u001b[31m165.5 MB/s\u001b[0m eta \u001b[36m0:00:01\u001b[0m\r\u001b[2K   \u001b[90m━━━━━━━━━━━━━━━━━━━━━━━━━━━━━━━━━━━━━━━━\u001b[0m \u001b[32m8.7/8.7 MB\u001b[0m \u001b[31m93.0 MB/s\u001b[0m eta \u001b[36m0:00:00\u001b[0m\n",
            "\u001b[2K   \u001b[90m━━━━━━━━━━━━━━━━━━━━━━━━━━━━━━━━━━━━━━━━\u001b[0m \u001b[32m65.5/65.5 kB\u001b[0m \u001b[31m4.5 MB/s\u001b[0m eta \u001b[36m0:00:00\u001b[0m\n",
            "\u001b[2K   \u001b[90m━━━━━━━━━━━━━━━━━━━━━━━━━━━━━━━━━━━━━━━━\u001b[0m \u001b[32m4.5/4.5 MB\u001b[0m \u001b[31m58.4 MB/s\u001b[0m eta \u001b[36m0:00:00\u001b[0m\n",
            "\u001b[2K   \u001b[90m━━━━━━━━━━━━━━━━━━━━━━━━━━━━━━━━━━━━━━━━\u001b[0m \u001b[32m6.9/6.9 MB\u001b[0m \u001b[31m82.2 MB/s\u001b[0m eta \u001b[36m0:00:00\u001b[0m\n",
            "\u001b[2K   \u001b[90m━━━━━━━━━━━━━━━━━━━━━━━━━━━━━━━━━━━━━━━━\u001b[0m \u001b[32m82.9/82.9 kB\u001b[0m \u001b[31m4.9 MB/s\u001b[0m eta \u001b[36m0:00:00\u001b[0m\n",
            "\u001b[?25h\u001b[31mERROR: pip's dependency resolver does not currently take into account all the packages that are installed. This behaviour is the source of the following dependency conflicts.\n",
            "google-adk 1.15.1 requires watchdog<7.0.0,>=6.0.0, but you have watchdog 4.0.2 which is incompatible.\u001b[0m\u001b[31m\n",
            "\u001b[0mDrive already mounted at /content/drive; to attempt to forcibly remount, call drive.mount(\"/content/drive\", force_remount=True).\n"
          ]
        }
      ]
    },
    {
      "cell_type": "code",
      "source": [
        "%%writefile app.py\n",
        "\n",
        "import streamlit as st\n",
        "st.set_page_config(page_title=\"Fake News Detection\", page_icon=\"📰\")\n",
        "\n",
        "import re, joblib, numpy as np, tensorflow as tf\n",
        "from tensorflow.keras.preprocessing.sequence import pad_sequences\n",
        "\n",
        "# --------- CONFIG ----------\n",
        "MODEL_DIR = \"/content/drive/MyDrive/fake_news_project/models\"\n",
        "MAX_LEN = 300\n",
        "USE_LSTM = True     # set to False if you want only TF-IDF + SVM\n",
        "# ---------------------------\n",
        "\n",
        "# ---------- TEXT CLEANER ----------\n",
        "def clean_text(t):\n",
        "    t = t.lower()\n",
        "    t = re.sub(r\"http\\S+\", \"\", t)\n",
        "    t = re.sub(r\"[^a-z\\s]\", \"\", t)\n",
        "    t = re.sub(r\"\\s+\", \" \", t).strip()\n",
        "    return t\n",
        "\n",
        "# ---------- LOAD MODELS ----------\n",
        "@st.cache_resource\n",
        "def load_models():\n",
        "    tfidf = joblib.load(f\"{MODEL_DIR}/tfidf_vectorizer.joblib\")\n",
        "    tfidf_lr = joblib.load(f\"{MODEL_DIR}/tfidf_logreg.joblib\")\n",
        "    svm = joblib.load(f\"{MODEL_DIR}/svm.joblib\")\n",
        "\n",
        "    lstm, tokenizer = None, None\n",
        "    if USE_LSTM:\n",
        "        lstm = tf.keras.models.load_model(f\"{MODEL_DIR}/lstm.h5\", compile=False)\n",
        "        try:\n",
        "            tokenizer = joblib.load(f\"{MODEL_DIR}/lstm_tokenizer.joblib\")\n",
        "        except:\n",
        "            tokenizer = None\n",
        "            st.warning(\"Tokenizer for LSTM not found — skipping LSTM model.\")\n",
        "    return tfidf, tfidf_lr, svm, lstm, tokenizer\n",
        "\n",
        "\n",
        "tfidf, tfidf_lr, svm, lstm, tokenizer = load_models()\n",
        "\n",
        "# ---------- PAGE HEADER ----------\n",
        "st.title(\"📰 Fake News Detection Dashboard\")\n",
        "st.markdown(\n",
        "    \"This tool analyzes a given news headline or short paragraph \"\n",
        "    \"using multiple machine-learning models to determine whether it’s **real or fake news**.\"\n",
        ")\n",
        "\n",
        "user_text = st.text_area(\n",
        "    \"Enter a news headline or paragraph:\",\n",
        "    height=160,\n",
        "    placeholder=\"e.g. Sri Lanka central bank announces new monetary policy adjustments for 2025\"\n",
        ")\n",
        "run = st.button(\"🔍 Detect\")\n",
        "\n",
        "# ---------- HELPER ----------\n",
        "def pseudo_confidence_from_decision(score: float) -> float:\n",
        "    \"\"\"Normalize SVM decision score to 0–1.\"\"\"\n",
        "    return float(1 / (1 + np.exp(-abs(score))))\n",
        "\n",
        "# ---------- PREDICTION ----------\n",
        "if run and user_text.strip():\n",
        "    text_c = clean_text(user_text)\n",
        "    results = []\n",
        "\n",
        "    # --- TF-IDF + Logistic Regression ---\n",
        "    X = tfidf.transform([text_c])\n",
        "    pred_lr = int(tfidf_lr.predict(X)[0])\n",
        "    prob_lr = float(tfidf_lr.predict_proba(X)[0][pred_lr])\n",
        "    label_lr = \"Fake\" if pred_lr == 1 else \"Real\"\n",
        "    results.append((\"TFIDF + LogReg\", label_lr, prob_lr))\n",
        "\n",
        "    # --- SVM ---\n",
        "    pred_svm = int(svm.predict(X)[0])\n",
        "    score = float(svm.decision_function(X)[0])\n",
        "    conf_svm = pseudo_confidence_from_decision(score)\n",
        "    label_svm = \"Fake\" if pred_svm == 1 else \"Real\"\n",
        "    results.append((\"SVM\", label_svm, conf_svm))\n",
        "\n",
        "    # --- LSTM ---\n",
        "    if USE_LSTM and tokenizer is not None and lstm is not None:\n",
        "        seq = tokenizer.texts_to_sequences([text_c])\n",
        "        pad = pad_sequences(seq, maxlen=MAX_LEN)\n",
        "        prob_fake = float(lstm.predict(pad, verbose=0)[0][0])\n",
        "        pred_lstm = 1 if prob_fake >= 0.5 else 0\n",
        "        label_lstm = \"Fake\" if pred_lstm == 1 else \"Real\"\n",
        "        results.append((\"LSTM\", label_lstm, prob_fake))\n",
        "\n",
        "    # --- Majority Vote ---\n",
        "    votes = [r[1] for r in results]\n",
        "    final_label = \"Fake\" if votes.count(\"Fake\") >= (len(votes)//2 + 1) else \"Real\"\n",
        "\n",
        "    # ---------- DISPLAY RESULTS ----------\n",
        "    st.subheader(\"Prediction Results\")\n",
        "    for name, label, conf in results:\n",
        "        st.write(f\"**{name}:** {label}  |  Confidence = `{conf:.3f}`\")\n",
        "\n",
        "    st.markdown(\"---\")\n",
        "    if final_label == \"Fake\":\n",
        "        st.error(f\"🧾 **Final Decision:** {final_label}\")\n",
        "    else:\n",
        "        st.success(f\"🧾 **Final Decision:** {final_label}\")\n",
        "\n",
        "    st.caption(\"*(Note: SVM confidence is a normalized margin, not a true probability.)*\")\n",
        "\n",
        "else:\n",
        "    st.info(\"💡 Enter text above and click **Detect** to begin.\")\n"
      ],
      "metadata": {
        "colab": {
          "base_uri": "https://localhost:8080/"
        },
        "id": "pZOoGvZBBjXe",
        "outputId": "8b9e4276-f983-402c-9f8e-ad1587b53125"
      },
      "execution_count": 44,
      "outputs": [
        {
          "output_type": "stream",
          "name": "stdout",
          "text": [
            "Overwriting app.py\n"
          ]
        }
      ]
    },
    {
      "cell_type": "code",
      "source": [
        "import os\n",
        "os.environ[\"NGROK_API_KEY\"] = \"33rjDDywzSwxb5CEupbJm2bf4rn_7mXYrMmjva11ZQr8LW4RZ\"\n"
      ],
      "metadata": {
        "id": "_hbvJ_2gEOTm"
      },
      "execution_count": 45,
      "outputs": []
    },
    {
      "cell_type": "code",
      "source": [
        "!pip -q install pyngrok==7.1.6\n",
        "\n",
        "from pyngrok import ngrok\n",
        "import subprocess, time, os\n",
        "\n",
        "# If you have an ngrok API key, set it once; otherwise comment the next 2 lines.\n",
        "NGROK_API_KEY = os.getenv(\"NGROK_API_KEY\", None)\n",
        "if not NGROK_API_KEY:\n",
        "    print(\"If you have an ngrok API key, set it like this before running:\")\n",
        "    print(\"import os; os.environ['NGROK_API_KEY'] = 'YOUR_KEY_HERE'\")\n",
        "\n",
        "# Kill any previous tunnels\n",
        "ngrok.kill()\n",
        "\n",
        "# Start Streamlit\n",
        "port = 8501\n",
        "proc = subprocess.Popen([\"streamlit\", \"run\", \"app.py\",\n",
        "                         \"--server.port\", str(port),\n",
        "                         \"--server.address\", \"0.0.0.0\"])\n",
        "\n",
        "# Give it a moment to boot\n",
        "time.sleep(5)\n",
        "\n",
        "# Open tunnel\n",
        "if NGROK_API_KEY:\n",
        "    ngrok.set_auth_token(NGROK_API_KEY)\n",
        "public_url = ngrok.connect(port, \"http\").public_url\n",
        "print(\"🔗 Public URL:\", public_url)\n"
      ],
      "metadata": {
        "colab": {
          "base_uri": "https://localhost:8080/"
        },
        "id": "v_QbTTmHBwcm",
        "outputId": "c7f01f1c-d2c0-413b-d1f5-f75f74555270"
      },
      "execution_count": 46,
      "outputs": [
        {
          "output_type": "stream",
          "name": "stdout",
          "text": [
            "🔗 Public URL: https://corie-araneose-van.ngrok-free.dev\n"
          ]
        }
      ]
    },
    {
      "cell_type": "code",
      "source": [
        "!git add app.py\n",
        "!git commit -m \"Member D – added Streamlit app.py for final deployment\"\n",
        "!git push --set-upstream origin feat/evaluation"
      ],
      "metadata": {
        "id": "7CDSQvsaLJfX"
      },
      "execution_count": null,
      "outputs": []
    }
  ]
}